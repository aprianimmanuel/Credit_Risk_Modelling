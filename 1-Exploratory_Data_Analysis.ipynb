{
 "metadata": {
  "language_info": {
   "codemirror_mode": {
    "name": "ipython",
    "version": 3
   },
   "file_extension": ".py",
   "mimetype": "text/x-python",
   "name": "python",
   "nbconvert_exporter": "python",
   "pygments_lexer": "ipython3",
   "version": "3.8.2-final"
  },
  "orig_nbformat": 2,
  "kernelspec": {
   "name": "python38264bit82a46b91eecb40d583fe648a951a8790",
   "display_name": "Python 3.8.2 64-bit"
  }
 },
 "nbformat": 4,
 "nbformat_minor": 2,
 "cells": [
  {
   "cell_type": "markdown",
   "metadata": {},
   "source": [
    "# __1. Credit Risk Modelling:__ Simple Exploratory Data Analysis and Loading Dataset\n",
    "## by: __Aprian Immanuel__ (087785160835 / immanuelaprian@gmail.com)"
   ]
  },
  {
   "cell_type": "markdown",
   "metadata": {},
   "source": [
    "### Before we arrived in Exploratory Data Analysis, we did as we called `Dataset Preparations`. This `Dataset Preparations` have step as following;\n",
    "#### 1. We've tried to import raw dataset directly using Python Library `(Pandas and Dask)` but we encountered problems due to our less sufficiency memory size. We decided to use another method\n",
    "#### 2. We decided to do formatting the raw CSV dataset using both Microsoft Excel and SQL combined. \n",
    "#### 3. First, we did CSV formatting using Microsoft Excel, replaced the blank values with Null to avoid truncated data warning in SQL, removed thousand separator and then saved it.\n",
    "#### 4. After that, we imported the formatted CSV to SQL using `LOAD DATA INFILE` Query. The query was succesfull. In the end, we got 6 tables in 1 schema as equal to 6 raw CSV data we received\n",
    "#### 5. After we joined some tables, we exported them into new sql and csv data. Then we proceed to Exploratory Data Analysis step. We decided to limit data rows for 15000 rows due to efficiency reason"
   ]
  },
  {
   "cell_type": "code",
   "execution_count": 1,
   "metadata": {},
   "outputs": [],
   "source": [
    "#import library\n",
    "import pandas as pd\n",
    "%matplotlib inline"
   ]
  },
  {
   "cell_type": "code",
   "execution_count": 3,
   "metadata": {},
   "outputs": [
    {
     "output_type": "execute_result",
     "data": {
      "text/plain": "    LN_ID  TARGET CONTRACT_TYPE GENDER  NUM_CHILDREN    INCOME  \\\n0  198658       0    Cash loans      F             0  207000.0   \n1  186157       0    Cash loans      F             1  112500.0   \n2  176791       0    Cash loans      M             0  139500.0   \n3  155702       0    Cash loans      M             0  135000.0   \n4  170611       0    Cash loans      M             0  135000.0   \n\n   APPROVED_CREDIT  ANNUITY      PRICE           INCOME_TYPE  ...  \\\n0        1125000.0  47794.5  1125000.0               Working  ...   \n1         152820.0  16177.5   135000.0  Commercial associate  ...   \n2         339948.0  26437.5   315000.0               Working  ...   \n3         640080.0  31261.5   450000.0         State servant  ...   \n4         199080.0  14557.5   157500.0               Working  ...   \n\n  PRICE_PREV_APP WEEKKDAYS_APPLY_PREV_APP HOUR_APPLY_PREV_APP  DAYS_DECISION  \\\n0   1.069411e+05                   SUNDAY                  17           -343   \n1   4.913960e+07                 SATURDAY                  15          -2713   \n2   6.137505e+04                   SUNDAY                  11          -2424   \n3   2.965500e+04                 THURSDAY                  13          -2393   \n4   4.070871e+08                  TUESDAY                  10          -1150   \n\n   TERM_PAYMENT  YIELD_GROUP  FIRST_DRAW FIRST_DUE  TERMINATION  \\\n0          10.0   low_normal    365243.0    -308.0        -35.0   \n1          10.0         high    365243.0   -2682.0      -2495.0   \n2          16.0         high    365243.0   -2393.0      -1941.0   \n3           6.0         high    365243.0   -2362.0      -2215.0   \n4          24.0       middle    365243.0   -1120.0       -424.0   \n\n  NFLAG_INSURED_ON_APPROVAL  \n0                       0.0  \n1                       1.0  \n2                       1.0  \n3                       1.0  \n4                       1.0  \n\n[5 rows x 44 columns]",
      "text/html": "<div>\n<style scoped>\n    .dataframe tbody tr th:only-of-type {\n        vertical-align: middle;\n    }\n\n    .dataframe tbody tr th {\n        vertical-align: top;\n    }\n\n    .dataframe thead th {\n        text-align: right;\n    }\n</style>\n<table border=\"1\" class=\"dataframe\">\n  <thead>\n    <tr style=\"text-align: right;\">\n      <th></th>\n      <th>LN_ID</th>\n      <th>TARGET</th>\n      <th>CONTRACT_TYPE</th>\n      <th>GENDER</th>\n      <th>NUM_CHILDREN</th>\n      <th>INCOME</th>\n      <th>APPROVED_CREDIT</th>\n      <th>ANNUITY</th>\n      <th>PRICE</th>\n      <th>INCOME_TYPE</th>\n      <th>...</th>\n      <th>PRICE_PREV_APP</th>\n      <th>WEEKKDAYS_APPLY_PREV_APP</th>\n      <th>HOUR_APPLY_PREV_APP</th>\n      <th>DAYS_DECISION</th>\n      <th>TERM_PAYMENT</th>\n      <th>YIELD_GROUP</th>\n      <th>FIRST_DRAW</th>\n      <th>FIRST_DUE</th>\n      <th>TERMINATION</th>\n      <th>NFLAG_INSURED_ON_APPROVAL</th>\n    </tr>\n  </thead>\n  <tbody>\n    <tr>\n      <th>0</th>\n      <td>198658</td>\n      <td>0</td>\n      <td>Cash loans</td>\n      <td>F</td>\n      <td>0</td>\n      <td>207000.0</td>\n      <td>1125000.0</td>\n      <td>47794.5</td>\n      <td>1125000.0</td>\n      <td>Working</td>\n      <td>...</td>\n      <td>1.069411e+05</td>\n      <td>SUNDAY</td>\n      <td>17</td>\n      <td>-343</td>\n      <td>10.0</td>\n      <td>low_normal</td>\n      <td>365243.0</td>\n      <td>-308.0</td>\n      <td>-35.0</td>\n      <td>0.0</td>\n    </tr>\n    <tr>\n      <th>1</th>\n      <td>186157</td>\n      <td>0</td>\n      <td>Cash loans</td>\n      <td>F</td>\n      <td>1</td>\n      <td>112500.0</td>\n      <td>152820.0</td>\n      <td>16177.5</td>\n      <td>135000.0</td>\n      <td>Commercial associate</td>\n      <td>...</td>\n      <td>4.913960e+07</td>\n      <td>SATURDAY</td>\n      <td>15</td>\n      <td>-2713</td>\n      <td>10.0</td>\n      <td>high</td>\n      <td>365243.0</td>\n      <td>-2682.0</td>\n      <td>-2495.0</td>\n      <td>1.0</td>\n    </tr>\n    <tr>\n      <th>2</th>\n      <td>176791</td>\n      <td>0</td>\n      <td>Cash loans</td>\n      <td>M</td>\n      <td>0</td>\n      <td>139500.0</td>\n      <td>339948.0</td>\n      <td>26437.5</td>\n      <td>315000.0</td>\n      <td>Working</td>\n      <td>...</td>\n      <td>6.137505e+04</td>\n      <td>SUNDAY</td>\n      <td>11</td>\n      <td>-2424</td>\n      <td>16.0</td>\n      <td>high</td>\n      <td>365243.0</td>\n      <td>-2393.0</td>\n      <td>-1941.0</td>\n      <td>1.0</td>\n    </tr>\n    <tr>\n      <th>3</th>\n      <td>155702</td>\n      <td>0</td>\n      <td>Cash loans</td>\n      <td>M</td>\n      <td>0</td>\n      <td>135000.0</td>\n      <td>640080.0</td>\n      <td>31261.5</td>\n      <td>450000.0</td>\n      <td>State servant</td>\n      <td>...</td>\n      <td>2.965500e+04</td>\n      <td>THURSDAY</td>\n      <td>13</td>\n      <td>-2393</td>\n      <td>6.0</td>\n      <td>high</td>\n      <td>365243.0</td>\n      <td>-2362.0</td>\n      <td>-2215.0</td>\n      <td>1.0</td>\n    </tr>\n    <tr>\n      <th>4</th>\n      <td>170611</td>\n      <td>0</td>\n      <td>Cash loans</td>\n      <td>M</td>\n      <td>0</td>\n      <td>135000.0</td>\n      <td>199080.0</td>\n      <td>14557.5</td>\n      <td>157500.0</td>\n      <td>Working</td>\n      <td>...</td>\n      <td>4.070871e+08</td>\n      <td>TUESDAY</td>\n      <td>10</td>\n      <td>-1150</td>\n      <td>24.0</td>\n      <td>middle</td>\n      <td>365243.0</td>\n      <td>-1120.0</td>\n      <td>-424.0</td>\n      <td>1.0</td>\n    </tr>\n  </tbody>\n</table>\n<p>5 rows × 44 columns</p>\n</div>"
     },
     "metadata": {},
     "execution_count": 3
    }
   ],
   "source": [
    "df = pd.read_csv('precredit_train.csv', sep=';') #import dataset\n",
    "df = df.drop(['NULL', 'MyUnknownColumn', 'LN_ID.1', 'MyUnknownColumn.1', 'SK_ID_PREV.1', 'LN_ID.2', 'CONTRACT_STATUS'], axis=1) #drop unnecessary feature\n",
    "df = df.rename(columns={'CONTRACT_TYPE.1' : 'CONTRACT_TYPE_PREV_APP', 'ANNUITY.1' : 'ANNUITY_PREV_APP', 'PRICE.1':'PRICE_PREV_APP', 'WEEKDAYS_APPLY.1':'WEEKKDAYS_APPLY_PREV_APP', 'HOUR_APPLY.1': 'HOUR_APPLY_PREV_APP', 'APPROVED_CREDIT.1':'APPROVED_CREDIT_PREV_APP'}, inplace=False) #rename feature\n",
    "df.head()"
   ]
  },
  {
   "cell_type": "code",
   "execution_count": 6,
   "metadata": {},
   "outputs": [
    {
     "output_type": "execute_result",
     "data": {
      "text/plain": "(15000, 44)"
     },
     "metadata": {},
     "execution_count": 6
    }
   ],
   "source": [
    "df.shape"
   ]
  },
  {
   "cell_type": "code",
   "execution_count": 17,
   "metadata": {
    "tags": []
   },
   "outputs": [
    {
     "output_type": "stream",
     "name": "stdout",
     "text": "<class 'pandas.core.frame.DataFrame'>\nRangeIndex: 15000 entries, 0 to 14999\nData columns (total 44 columns):\n #   Column                     Non-Null Count  Dtype  \n---  ------                     --------------  -----  \n 0   LN_ID                      15000 non-null  int64  \n 1   TARGET                     15000 non-null  int64  \n 2   CONTRACT_TYPE              15000 non-null  object \n 3   GENDER                     15000 non-null  object \n 4   NUM_CHILDREN               15000 non-null  int64  \n 5   INCOME                     15000 non-null  float64\n 6   APPROVED_CREDIT            15000 non-null  float64\n 7   ANNUITY                    14999 non-null  float64\n 8   PRICE                      14988 non-null  float64\n 9   INCOME_TYPE                15000 non-null  object \n 10  EDUCATION                  15000 non-null  object \n 11  FAMILY_STATUS              15000 non-null  object \n 12  HOUSING_TYPE               15000 non-null  object \n 13  DAYS_AGE                   15000 non-null  int64  \n 14  DAYS_WORK                  15000 non-null  int64  \n 15  DAYS_REGISTRATION          15000 non-null  int64  \n 16  DAYS_ID_CHANGE             15000 non-null  int64  \n 17  WEEKDAYS_APPLY             15000 non-null  object \n 18  HOUR_APPLY                 15000 non-null  int64  \n 19  ORGANIZATION_TYPE          15000 non-null  object \n 20  EXT_SCORE_1                6460 non-null   float64\n 21  EXT_SCORE_2                14969 non-null  float64\n 22  EXT_SCORE_3                12225 non-null  float64\n 23  SK_ID_PREV                 15000 non-null  int64  \n 24  INST_NUMBER                15000 non-null  int64  \n 25  INST_DAYS                  15000 non-null  int64  \n 26  PAY_DAYS                   14999 non-null  float64\n 27  AMT_INST                   15000 non-null  float64\n 28  AMT_PAY                    14999 non-null  float64\n 29  CONTRACT_TYPE_PREV_APP     15000 non-null  object \n 30  ANNUITY_PREV_APP           15000 non-null  float64\n 31  APPLICATION                15000 non-null  float64\n 32  APPROVED_CREDIT_PREV_APP   15000 non-null  float64\n 33  AMT_DOWN_PAYMENT           10339 non-null  float64\n 34  PRICE_PREV_APP             14480 non-null  float64\n 35  WEEKKDAYS_APPLY_PREV_APP   15000 non-null  object \n 36  HOUR_APPLY_PREV_APP        15000 non-null  int64  \n 37  DAYS_DECISION              15000 non-null  int64  \n 38  TERM_PAYMENT               15000 non-null  float64\n 39  YIELD_GROUP                15000 non-null  object \n 40  FIRST_DRAW                 14993 non-null  float64\n 41  FIRST_DUE                  14993 non-null  float64\n 42  TERMINATION                14993 non-null  float64\n 43  NFLAG_INSURED_ON_APPROVAL  14993 non-null  float64\ndtypes: float64(20), int64(13), object(11)\nmemory usage: 5.0+ MB\n"
    }
   ],
   "source": [
    "df.info()"
   ]
  },
  {
   "cell_type": "markdown",
   "metadata": {},
   "source": [
    "## Descriptive Analysis"
   ]
  },
  {
   "cell_type": "code",
   "execution_count": 15,
   "metadata": {},
   "outputs": [
    {
     "output_type": "execute_result",
     "data": {
      "text/plain": "               LN_ID        TARGET  NUM_CHILDREN        INCOME  \\\ncount   15000.000000  15000.000000  15000.000000  1.500000e+04   \nmean   199580.163800      0.074867      0.419600  1.690944e+05   \nstd     57659.550443      0.263185      0.733102  9.416028e+04   \nmin    100009.000000      0.000000      0.000000  2.700000e+04   \n25%    149109.500000      0.000000      0.000000  1.125000e+05   \n50%    199040.000000      0.000000      0.000000  1.575000e+05   \n75%    249791.000000      0.000000      1.000000  2.025000e+05   \nmax    299984.000000      1.000000      8.000000  1.935000e+06   \n\n       APPROVED_CREDIT        ANNUITY         PRICE      DAYS_AGE  \\\ncount     1.500000e+04   14999.000000  1.498800e+04  15000.000000   \nmean      5.928158e+05   26875.987032  5.316990e+05 -16235.939000   \nstd       3.938100e+05   14073.005288  3.606592e+05   4372.330198   \nmin       4.500000e+04    2583.000000  4.500000e+04 -25200.000000   \n25%       2.700000e+05   16456.500000  2.340000e+05 -19924.250000   \n50%       5.094000e+05   24732.000000  4.500000e+05 -15937.000000   \n75%       8.086500e+05   34465.500000  6.795000e+05 -12618.750000   \nmax       2.961000e+06  136687.500000  2.961000e+06  -7690.000000   \n\n           DAYS_WORK  DAYS_REGISTRATION  ...  APPROVED_CREDIT_PREV_APP  \\\ncount   15000.000000       15000.000000  ...              1.500000e+04   \nmean    68998.902000       -5057.053733  ...              4.442371e+05   \nstd    145545.001824        3544.987062  ...              8.695527e+06   \nmin    -16651.000000      -20516.000000  ...              0.000000e+00   \n25%     -2893.000000       -7572.000000  ...              4.770675e+04   \n50%     -1285.000000       -4594.000000  ...              9.805950e+04   \n75%      -275.000000       -2077.750000  ...              2.028105e+05   \nmax    365243.000000           0.000000  ...              4.968023e+08   \n\n       AMT_DOWN_PAYMENT  PRICE_PREV_APP  HOUR_APPLY_PREV_APP  DAYS_DECISION  \\\ncount      1.033900e+04    1.448000e+04         15000.000000   15000.000000   \nmean       1.170630e+05    1.230416e+06            12.650267   -1119.963467   \nstd        1.498732e+06    1.245088e+07             3.354127     789.499885   \nmin        0.000000e+00    0.000000e+00             0.000000   -2922.000000   \n25%        0.000000e+00    4.731975e+04            10.000000   -1680.000000   \n50%        2.389500e+03    9.603900e+04            13.000000    -869.000000   \n75%        8.619750e+03    1.948928e+05            15.000000    -472.000000   \nmax        6.524438e+07    4.453628e+08            23.000000     -21.000000   \n\n       TERM_PAYMENT     FIRST_DRAW      FIRST_DUE    TERMINATION  \\\ncount  15000.000000   14993.000000   14993.000000   14993.000000   \nmean      14.202733  342496.813713    -473.966584   75294.525712   \nstd       11.362874   88404.283245   14967.569856  148700.522981   \nmin        0.000000   -2922.000000   -2891.000000   -2768.000000   \n25%        6.000000  365243.000000   -1645.000000   -1276.000000   \n50%       12.000000  365243.000000    -832.000000    -496.000000   \n75%       18.000000  365243.000000    -436.000000     -70.000000   \nmax       60.000000  365243.000000  365243.000000  365243.000000   \n\n       NFLAG_INSURED_ON_APPROVAL  \ncount               14993.000000  \nmean                    0.325018  \nstd                     0.468397  \nmin                     0.000000  \n25%                     0.000000  \n50%                     0.000000  \n75%                     1.000000  \nmax                     1.000000  \n\n[8 rows x 33 columns]",
      "text/html": "<div>\n<style scoped>\n    .dataframe tbody tr th:only-of-type {\n        vertical-align: middle;\n    }\n\n    .dataframe tbody tr th {\n        vertical-align: top;\n    }\n\n    .dataframe thead th {\n        text-align: right;\n    }\n</style>\n<table border=\"1\" class=\"dataframe\">\n  <thead>\n    <tr style=\"text-align: right;\">\n      <th></th>\n      <th>LN_ID</th>\n      <th>TARGET</th>\n      <th>NUM_CHILDREN</th>\n      <th>INCOME</th>\n      <th>APPROVED_CREDIT</th>\n      <th>ANNUITY</th>\n      <th>PRICE</th>\n      <th>DAYS_AGE</th>\n      <th>DAYS_WORK</th>\n      <th>DAYS_REGISTRATION</th>\n      <th>...</th>\n      <th>APPROVED_CREDIT_PREV_APP</th>\n      <th>AMT_DOWN_PAYMENT</th>\n      <th>PRICE_PREV_APP</th>\n      <th>HOUR_APPLY_PREV_APP</th>\n      <th>DAYS_DECISION</th>\n      <th>TERM_PAYMENT</th>\n      <th>FIRST_DRAW</th>\n      <th>FIRST_DUE</th>\n      <th>TERMINATION</th>\n      <th>NFLAG_INSURED_ON_APPROVAL</th>\n    </tr>\n  </thead>\n  <tbody>\n    <tr>\n      <th>count</th>\n      <td>15000.000000</td>\n      <td>15000.000000</td>\n      <td>15000.000000</td>\n      <td>1.500000e+04</td>\n      <td>1.500000e+04</td>\n      <td>14999.000000</td>\n      <td>1.498800e+04</td>\n      <td>15000.000000</td>\n      <td>15000.000000</td>\n      <td>15000.000000</td>\n      <td>...</td>\n      <td>1.500000e+04</td>\n      <td>1.033900e+04</td>\n      <td>1.448000e+04</td>\n      <td>15000.000000</td>\n      <td>15000.000000</td>\n      <td>15000.000000</td>\n      <td>14993.000000</td>\n      <td>14993.000000</td>\n      <td>14993.000000</td>\n      <td>14993.000000</td>\n    </tr>\n    <tr>\n      <th>mean</th>\n      <td>199580.163800</td>\n      <td>0.074867</td>\n      <td>0.419600</td>\n      <td>1.690944e+05</td>\n      <td>5.928158e+05</td>\n      <td>26875.987032</td>\n      <td>5.316990e+05</td>\n      <td>-16235.939000</td>\n      <td>68998.902000</td>\n      <td>-5057.053733</td>\n      <td>...</td>\n      <td>4.442371e+05</td>\n      <td>1.170630e+05</td>\n      <td>1.230416e+06</td>\n      <td>12.650267</td>\n      <td>-1119.963467</td>\n      <td>14.202733</td>\n      <td>342496.813713</td>\n      <td>-473.966584</td>\n      <td>75294.525712</td>\n      <td>0.325018</td>\n    </tr>\n    <tr>\n      <th>std</th>\n      <td>57659.550443</td>\n      <td>0.263185</td>\n      <td>0.733102</td>\n      <td>9.416028e+04</td>\n      <td>3.938100e+05</td>\n      <td>14073.005288</td>\n      <td>3.606592e+05</td>\n      <td>4372.330198</td>\n      <td>145545.001824</td>\n      <td>3544.987062</td>\n      <td>...</td>\n      <td>8.695527e+06</td>\n      <td>1.498732e+06</td>\n      <td>1.245088e+07</td>\n      <td>3.354127</td>\n      <td>789.499885</td>\n      <td>11.362874</td>\n      <td>88404.283245</td>\n      <td>14967.569856</td>\n      <td>148700.522981</td>\n      <td>0.468397</td>\n    </tr>\n    <tr>\n      <th>min</th>\n      <td>100009.000000</td>\n      <td>0.000000</td>\n      <td>0.000000</td>\n      <td>2.700000e+04</td>\n      <td>4.500000e+04</td>\n      <td>2583.000000</td>\n      <td>4.500000e+04</td>\n      <td>-25200.000000</td>\n      <td>-16651.000000</td>\n      <td>-20516.000000</td>\n      <td>...</td>\n      <td>0.000000e+00</td>\n      <td>0.000000e+00</td>\n      <td>0.000000e+00</td>\n      <td>0.000000</td>\n      <td>-2922.000000</td>\n      <td>0.000000</td>\n      <td>-2922.000000</td>\n      <td>-2891.000000</td>\n      <td>-2768.000000</td>\n      <td>0.000000</td>\n    </tr>\n    <tr>\n      <th>25%</th>\n      <td>149109.500000</td>\n      <td>0.000000</td>\n      <td>0.000000</td>\n      <td>1.125000e+05</td>\n      <td>2.700000e+05</td>\n      <td>16456.500000</td>\n      <td>2.340000e+05</td>\n      <td>-19924.250000</td>\n      <td>-2893.000000</td>\n      <td>-7572.000000</td>\n      <td>...</td>\n      <td>4.770675e+04</td>\n      <td>0.000000e+00</td>\n      <td>4.731975e+04</td>\n      <td>10.000000</td>\n      <td>-1680.000000</td>\n      <td>6.000000</td>\n      <td>365243.000000</td>\n      <td>-1645.000000</td>\n      <td>-1276.000000</td>\n      <td>0.000000</td>\n    </tr>\n    <tr>\n      <th>50%</th>\n      <td>199040.000000</td>\n      <td>0.000000</td>\n      <td>0.000000</td>\n      <td>1.575000e+05</td>\n      <td>5.094000e+05</td>\n      <td>24732.000000</td>\n      <td>4.500000e+05</td>\n      <td>-15937.000000</td>\n      <td>-1285.000000</td>\n      <td>-4594.000000</td>\n      <td>...</td>\n      <td>9.805950e+04</td>\n      <td>2.389500e+03</td>\n      <td>9.603900e+04</td>\n      <td>13.000000</td>\n      <td>-869.000000</td>\n      <td>12.000000</td>\n      <td>365243.000000</td>\n      <td>-832.000000</td>\n      <td>-496.000000</td>\n      <td>0.000000</td>\n    </tr>\n    <tr>\n      <th>75%</th>\n      <td>249791.000000</td>\n      <td>0.000000</td>\n      <td>1.000000</td>\n      <td>2.025000e+05</td>\n      <td>8.086500e+05</td>\n      <td>34465.500000</td>\n      <td>6.795000e+05</td>\n      <td>-12618.750000</td>\n      <td>-275.000000</td>\n      <td>-2077.750000</td>\n      <td>...</td>\n      <td>2.028105e+05</td>\n      <td>8.619750e+03</td>\n      <td>1.948928e+05</td>\n      <td>15.000000</td>\n      <td>-472.000000</td>\n      <td>18.000000</td>\n      <td>365243.000000</td>\n      <td>-436.000000</td>\n      <td>-70.000000</td>\n      <td>1.000000</td>\n    </tr>\n    <tr>\n      <th>max</th>\n      <td>299984.000000</td>\n      <td>1.000000</td>\n      <td>8.000000</td>\n      <td>1.935000e+06</td>\n      <td>2.961000e+06</td>\n      <td>136687.500000</td>\n      <td>2.961000e+06</td>\n      <td>-7690.000000</td>\n      <td>365243.000000</td>\n      <td>0.000000</td>\n      <td>...</td>\n      <td>4.968023e+08</td>\n      <td>6.524438e+07</td>\n      <td>4.453628e+08</td>\n      <td>23.000000</td>\n      <td>-21.000000</td>\n      <td>60.000000</td>\n      <td>365243.000000</td>\n      <td>365243.000000</td>\n      <td>365243.000000</td>\n      <td>1.000000</td>\n    </tr>\n  </tbody>\n</table>\n<p>8 rows × 33 columns</p>\n</div>"
     },
     "metadata": {},
     "execution_count": 15
    }
   ],
   "source": [
    "df.describe()"
   ]
  },
  {
   "cell_type": "markdown",
   "metadata": {},
   "source": [
    "## Client Profiling"
   ]
  },
  {
   "cell_type": "markdown",
   "metadata": {},
   "source": [
    "### 1. Who are our Clients (by gender)?"
   ]
  },
  {
   "cell_type": "code",
   "execution_count": 4,
   "metadata": {},
   "outputs": [
    {
     "output_type": "execute_result",
     "data": {
      "text/plain": "F    9997\nM    5003\nName: GENDER, dtype: int64"
     },
     "metadata": {},
     "execution_count": 4
    }
   ],
   "source": [
    "df['GENDER'].value_counts()"
   ]
  },
  {
   "cell_type": "markdown",
   "metadata": {},
   "source": [
    "### 2. How many Children that usually our clients have?"
   ]
  },
  {
   "cell_type": "code",
   "execution_count": 8,
   "metadata": {},
   "outputs": [
    {
     "output_type": "execute_result",
     "data": {
      "text/plain": "0    10546\n1     2908\n2     1303\n3      205\n4       28\n5        9\n8        1\nName: NUM_CHILDREN, dtype: int64"
     },
     "metadata": {},
     "execution_count": 8
    }
   ],
   "source": [
    "df['NUM_CHILDREN'].value_counts()"
   ]
  },
  {
   "cell_type": "markdown",
   "metadata": {},
   "source": [
    "### 3. What are the income type that usually our clients have?"
   ]
  },
  {
   "cell_type": "code",
   "execution_count": 9,
   "metadata": {},
   "outputs": [
    {
     "output_type": "execute_result",
     "data": {
      "text/plain": "Working                 7665\nCommercial associate    3356\nPensioner               2914\nState servant           1063\nUnemployed                 2\nName: INCOME_TYPE, dtype: int64"
     },
     "metadata": {},
     "execution_count": 9
    }
   ],
   "source": [
    "df['INCOME_TYPE'].value_counts()"
   ]
  },
  {
   "cell_type": "markdown",
   "metadata": {},
   "source": [
    "### We could do Client Profiling with Exploratory Data Analysis as many as we need. There will be unlimited trial and experiment for this section. We decided to proceed to Clients Behaviour section"
   ]
  },
  {
   "cell_type": "markdown",
   "metadata": {},
   "source": [
    "## Client Behaviour"
   ]
  },
  {
   "cell_type": "markdown",
   "metadata": {},
   "source": [
    "### 1. On what days do usually our Clients apply the loan?"
   ]
  },
  {
   "cell_type": "code",
   "execution_count": 10,
   "metadata": {},
   "outputs": [
    {
     "output_type": "execute_result",
     "data": {
      "text/plain": "TUESDAY      2562\nMONDAY       2497\nWEDNESDAY    2463\nTHURSDAY     2438\nFRIDAY       2437\nSATURDAY     1786\nSUNDAY        817\nName: WEEKDAYS_APPLY, dtype: int64"
     },
     "metadata": {},
     "execution_count": 10
    }
   ],
   "source": [
    "df['WEEKDAYS_APPLY'].value_counts()"
   ]
  },
  {
   "cell_type": "markdown",
   "metadata": {},
   "source": [
    "### 2. On what days did our Clients apply for the previous application?"
   ]
  },
  {
   "cell_type": "code",
   "execution_count": 12,
   "metadata": {},
   "outputs": [
    {
     "output_type": "execute_result",
     "data": {
      "text/plain": "SATURDAY     2386\nFRIDAY       2340\nWEDNESDAY    2214\nTUESDAY      2190\nMONDAY       2155\nTHURSDAY     2056\nSUNDAY       1659\nName: WEEKKDAYS_APPLY_PREV_APP, dtype: int64"
     },
     "metadata": {},
     "execution_count": 12
    }
   ],
   "source": [
    "df['WEEKKDAYS_APPLY_PREV_APP'].value_counts()"
   ]
  },
  {
   "cell_type": "markdown",
   "metadata": {},
   "source": [
    "### 3. What income type that usually our clients have who have late payment than X days?"
   ]
  },
  {
   "cell_type": "code",
   "execution_count": 13,
   "metadata": {},
   "outputs": [
    {
     "output_type": "execute_result",
     "data": {
      "text/plain": "INCOME_TYPE\nWorking                 699\nCommercial associate    238\nPensioner               121\nState servant            65\nName: INCOME_TYPE, dtype: int64"
     },
     "metadata": {},
     "execution_count": 13
    }
   ],
   "source": [
    "df[df['TARGET'] == 1]['INCOME_TYPE'].groupby(df['INCOME_TYPE']).count().sort_values(ascending=False)"
   ]
  },
  {
   "cell_type": "markdown",
   "metadata": {},
   "source": [
    "### We could have our Client Behaviour analysis with Exploratory Data Analysis as many as we need. There will be unlimited trial and experiment for this section. We had to learn the column description in order to understand what problems we're going to solve and deal with."
   ]
  },
  {
   "cell_type": "markdown",
   "metadata": {},
   "source": [
    "<hr>"
   ]
  }
 ]
}